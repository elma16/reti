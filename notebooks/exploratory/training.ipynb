{
 "cells": [
  {
   "cell_type": "code",
   "execution_count": 1,
   "metadata": {},
   "outputs": [],
   "source": [
    "from reti import training"
   ]
  },
  {
   "cell_type": "code",
   "execution_count": 2,
   "metadata": {},
   "outputs": [],
   "source": [
    "for i in range(10):\n",
    "    training.EndgameTraining('KBB','k').random_generate()\n",
    "    "
   ]
  },
  {
   "cell_type": "code",
   "execution_count": 11,
   "metadata": {},
   "outputs": [
    {
     "ename": "FileNotFoundError",
     "evalue": "[Errno 2] No such file or directory: '../../data/lichess/lichess_elite_2020-06/6-2-2RPr.pgn'",
     "output_type": "error",
     "traceback": [
      "\u001b[0;31m---------------------------------------------------------------------------\u001b[0m",
      "\u001b[0;31mFileNotFoundError\u001b[0m                         Traceback (most recent call last)",
      "Cell \u001b[0;32mIn [11], line 1\u001b[0m\n\u001b[0;32m----> 1\u001b[0m training\u001b[39m.\u001b[39;49mEndgameTraining(\u001b[39m'\u001b[39;49m\u001b[39mKpp\u001b[39;49m\u001b[39m'\u001b[39;49m,\u001b[39m'\u001b[39;49m\u001b[39mkp\u001b[39;49m\u001b[39m'\u001b[39;49m)\u001b[39m.\u001b[39;49mgame_generate(\u001b[39m'\u001b[39;49m\u001b[39m../../data/lichess/lichess_elite_2020-06/6-2-2RPr.pgn\u001b[39;49m\u001b[39m'\u001b[39;49m,\u001b[39m5\u001b[39;49m)\n",
      "File \u001b[0;32m/opt/homebrew/lib/python3.10/site-packages/reti/training.py:37\u001b[0m, in \u001b[0;36mEndgameTraining.game_generate\u001b[0;34m(self, cqlpath, subset_len)\u001b[0m\n\u001b[1;32m     33\u001b[0m \u001b[39mdef\u001b[39;00m \u001b[39mgame_generate\u001b[39m(\u001b[39mself\u001b[39m, cqlpath, subset_len):\n\u001b[1;32m     34\u001b[0m     \u001b[39m'''\u001b[39;00m\n\u001b[1;32m     35\u001b[0m \u001b[39m    Generate a training game by cql\u001b[39;00m\n\u001b[1;32m     36\u001b[0m \u001b[39m    '''\u001b[39;00m\n\u001b[0;32m---> 37\u001b[0m     fen, white, black \u001b[39m=\u001b[39m utilities\u001b[39m.\u001b[39;49mprint_relevant_positions(cqlpath)\n\u001b[1;32m     38\u001b[0m     \u001b[39massert\u001b[39;00m(\u001b[39mlen\u001b[39m(fen) \u001b[39m>\u001b[39m subset_len)\n\u001b[1;32m     39\u001b[0m     \u001b[39mfor\u001b[39;00m count \u001b[39min\u001b[39;00m \u001b[39mrange\u001b[39m(subset_len):\n",
      "File \u001b[0;32m/opt/homebrew/lib/python3.10/site-packages/reti/utilities.py:95\u001b[0m, in \u001b[0;36mprint_relevant_positions\u001b[0;34m(path)\u001b[0m\n\u001b[1;32m     93\u001b[0m white_player \u001b[39m=\u001b[39m []\n\u001b[1;32m     94\u001b[0m black_player \u001b[39m=\u001b[39m []\n\u001b[0;32m---> 95\u001b[0m pgn \u001b[39m=\u001b[39m \u001b[39mopen\u001b[39;49m(path, encoding\u001b[39m=\u001b[39;49m\u001b[39m'\u001b[39;49m\u001b[39mutf-8\u001b[39;49m\u001b[39m'\u001b[39;49m, errors\u001b[39m=\u001b[39;49m\u001b[39m'\u001b[39;49m\u001b[39mreplace\u001b[39;49m\u001b[39m'\u001b[39;49m)\n\u001b[1;32m     96\u001b[0m \u001b[39mwith\u001b[39;00m \u001b[39mopen\u001b[39m(path, encoding\u001b[39m=\u001b[39m\u001b[39m\"\u001b[39m\u001b[39mutf-8\u001b[39m\u001b[39m\"\u001b[39m,errors\u001b[39m=\u001b[39m\u001b[39m'\u001b[39m\u001b[39mreplace\u001b[39m\u001b[39m'\u001b[39m) \u001b[39mas\u001b[39;00m file:\n\u001b[1;32m     97\u001b[0m     content \u001b[39m=\u001b[39m file\u001b[39m.\u001b[39mread()\n",
      "\u001b[0;31mFileNotFoundError\u001b[0m: [Errno 2] No such file or directory: '../../data/lichess/lichess_elite_2020-06/6-2-2RPr.pgn'"
     ]
    }
   ],
   "source": [
    "training.EndgameTraining('Kpp','kp').game_generate('../../data/lichess/lichess_elite_2020-06/6-2-2RPPr.pgn',5)"
   ]
  }
 ],
 "metadata": {
  "kernelspec": {
   "display_name": "Python 3.10.8 64-bit",
   "language": "python",
   "name": "python3"
  },
  "language_info": {
   "codemirror_mode": {
    "name": "ipython",
    "version": 3
   },
   "file_extension": ".py",
   "mimetype": "text/x-python",
   "name": "python",
   "nbconvert_exporter": "python",
   "pygments_lexer": "ipython3",
   "version": "3.10.9 (main, Dec 15 2022, 17:11:09) [Clang 14.0.0 (clang-1400.0.29.202)]"
  },
  "orig_nbformat": 4,
  "vscode": {
   "interpreter": {
    "hash": "b0fa6594d8f4cbf19f97940f81e996739fb7646882a419484c72d19e05852a7e"
   }
  }
 },
 "nbformat": 4,
 "nbformat_minor": 2
}
