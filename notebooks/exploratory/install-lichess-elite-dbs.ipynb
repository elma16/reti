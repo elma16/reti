{
 "cells": [
  {
   "cell_type": "markdown",
   "metadata": {
    "id": "kV5L3msx5F-o"
   },
   "source": []
  },
  {
   "cell_type": "code",
   "execution_count": null,
   "metadata": {
    "colab": {
     "base_uri": "https://localhost:8080/"
    },
    "executionInfo": {
     "elapsed": 16915,
     "status": "ok",
     "timestamp": 1665992544470,
     "user": {
      "displayName": "Elliott Macneil",
      "userId": "04236416097533141196"
     },
     "user_tz": -60
    },
    "id": "t0tnXnJa5IOo",
    "outputId": "59f00ba6-f941-4754-98f4-d30faf2fb546"
   },
   "outputs": [],
   "source": [
    "from google.colab import drive\n",
    "\n",
    "drive.mount(\"/content/drive\")"
   ]
  },
  {
   "cell_type": "code",
   "execution_count": null,
   "metadata": {
    "colab": {
     "base_uri": "https://localhost:8080/"
    },
    "executionInfo": {
     "elapsed": 579,
     "status": "ok",
     "timestamp": 1665994434228,
     "user": {
      "displayName": "Elliott Macneil",
      "userId": "04236416097533141196"
     },
     "user_tz": -60
    },
    "id": "l2gojmfw6GKx",
    "outputId": "2f3d0c9f-547d-427a-b8f2-a1f91208b1de"
   },
   "outputs": [],
   "source": [
    "%cd /content/drive/MyDrive\n",
    "!rm -rf lichess_elite_db\n",
    "!mkdir lichess_elite_db\n",
    "%cd lichess_elite_db"
   ]
  },
  {
   "cell_type": "code",
   "execution_count": null,
   "metadata": {
    "colab": {
     "base_uri": "https://localhost:8080/"
    },
    "executionInfo": {
     "elapsed": 531550,
     "status": "ok",
     "timestamp": 1665994968446,
     "user": {
      "displayName": "Elliott Macneil",
      "userId": "04236416097533141196"
     },
     "user_tz": -60
    },
    "id": "RYqv6Ipu4O7D",
    "outputId": "54cb4e2d-5232-4a5f-f5b6-33cc1e0d2fe9"
   },
   "outputs": [],
   "source": [
    "import wget\n",
    "import zipfile\n",
    "import os\n",
    "\n",
    "# import all pgns from june 2020 to september 2022, and unzip them.\n",
    "\n",
    "cwd = os.getcwd()\n",
    "\n",
    "for year in range(2020, 2023):\n",
    "    for month in range(1, 13):\n",
    "        if month < 10:\n",
    "            date = str(year) + \"-0\" + str(month)\n",
    "        else:\n",
    "            date = str(year) + \"-\" + str(month)\n",
    "        url = \"https://database.nikonoel.fr/lichess_elite_{}.zip\".format(date)\n",
    "        print(url)\n",
    "        wget.download(url)"
   ]
  },
  {
   "cell_type": "code",
   "execution_count": null,
   "metadata": {
    "colab": {
     "base_uri": "https://localhost:8080/",
     "height": 862
    },
    "executionInfo": {
     "elapsed": 226138,
     "status": "error",
     "timestamp": 1665995617772,
     "user": {
      "displayName": "Elliott Macneil",
      "userId": "04236416097533141196"
     },
     "user_tz": -60
    },
    "id": "F7i8BiVDAYWw",
    "outputId": "b88f363c-410f-4c16-8ab0-66d8b90efa2e"
   },
   "outputs": [],
   "source": [
    "for filename in os.listdir(cwd):\n",
    "    if filename.endswith(\".zip\"):\n",
    "        print(filename)\n",
    "        with zipfile.ZipFile(filename, \"r\") as zip_ref:\n",
    "            zip_ref.extractall(filename[:-4])\n",
    "        os.remove(filename)"
   ]
  },
  {
   "cell_type": "code",
   "execution_count": null,
   "metadata": {
    "colab": {
     "base_uri": "https://localhost:8080/",
     "height": 973
    },
    "executionInfo": {
     "elapsed": 526,
     "status": "error",
     "timestamp": 1665996481637,
     "user": {
      "displayName": "Elliott Macneil",
      "userId": "04236416097533141196"
     },
     "user_tz": -60
    },
    "id": "V1ziC9-OFm9r",
    "outputId": "5ee4ae76-4e67-47ba-f302-c61d4e588386"
   },
   "outputs": [],
   "source": [
    "import shutil\n",
    "\n",
    "print(cwd)\n",
    "cwd = \"/Users/elliottmacneil/python/reti/src/lichess_elite_pgn\"\n",
    "for foldername in os.listdir(cwd):\n",
    "    if foldername != \"all_elite_db\":\n",
    "        try:\n",
    "            source = cwd + \"/\" + foldername + \"/\" + foldername + \".pgn\"\n",
    "            destination = cwd + \"/all_elite_db/\" + foldername + \".pgn\"\n",
    "            print(source)\n",
    "            shutil.move(source, destination)\n",
    "        except NotADirectoryError:\n",
    "            print(\"oops\")"
   ]
  },
  {
   "cell_type": "code",
   "execution_count": null,
   "metadata": {
    "colab": {
     "base_uri": "https://localhost:8080/"
    },
    "executionInfo": {
     "elapsed": 238,
     "status": "ok",
     "timestamp": 1665996581739,
     "user": {
      "displayName": "Elliott Macneil",
      "userId": "04236416097533141196"
     },
     "user_tz": -60
    },
    "id": "kI3QLKZxIeiH",
    "outputId": "ebcb9352-74e7-4f9e-943c-4bbecb4b719a"
   },
   "outputs": [],
   "source": [
    "%cd /content/drive/MyDrive/lichess_elite_db/elite_db_combined\n",
    "!ls"
   ]
  },
  {
   "cell_type": "code",
   "execution_count": null,
   "metadata": {
    "colab": {
     "base_uri": "https://localhost:8080/"
    },
    "executionInfo": {
     "elapsed": 2988,
     "status": "ok",
     "timestamp": 1665996872715,
     "user": {
      "displayName": "Elliott Macneil",
      "userId": "04236416097533141196"
     },
     "user_tz": -60
    },
    "id": "QVlfUsRiJi9D",
    "outputId": "2cdeaaef-c619-4997-9b2b-47f41e281e31"
   },
   "outputs": [],
   "source": [
    "!git clone https://github.com/elma16/reti.git"
   ]
  }
 ],
 "metadata": {
  "colab": {
   "authorship_tag": "ABX9TyMf992ODM/APO6fZgdQYBkS",
   "collapsed_sections": [],
   "provenance": []
  },
  "kernelspec": {
   "display_name": "Python 3.10.6 64-bit",
   "language": "python",
   "name": "python3"
  },
  "language_info": {
   "codemirror_mode": {
    "name": "ipython",
    "version": 3
   },
   "file_extension": ".py",
   "mimetype": "text/x-python",
   "name": "python",
   "nbconvert_exporter": "python",
   "pygments_lexer": "ipython3",
   "version": "3.10.8"
  },
  "vscode": {
   "interpreter": {
    "hash": "b0fa6594d8f4cbf19f97940f81e996739fb7646882a419484c72d19e05852a7e"
   }
  }
 },
 "nbformat": 4,
 "nbformat_minor": 0
}
