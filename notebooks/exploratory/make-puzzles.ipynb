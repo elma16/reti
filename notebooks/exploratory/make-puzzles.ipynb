{
 "cells": [
  {
   "cell_type": "code",
   "execution_count": 1,
   "metadata": {},
   "outputs": [],
   "source": [
    "from reti import utilities\n",
    "import os"
   ]
  },
  {
   "cell_type": "code",
   "execution_count": 3,
   "metadata": {},
   "outputs": [
    {
     "data": {
      "text/plain": [
       "'/Users/elliottmacneil/python/reti/notebooks/exploratory'"
      ]
     },
     "execution_count": 3,
     "metadata": {},
     "output_type": "execute_result"
    }
   ],
   "source": [
    "os.getcwd()"
   ]
  },
  {
   "attachments": {},
   "cell_type": "markdown",
   "metadata": {},
   "source": [
    "# Step 1: Make FENs"
   ]
  },
  {
   "attachments": {},
   "cell_type": "markdown",
   "metadata": {},
   "source": [
    "# Step 2: Given the FEN strings, make PNG images."
   ]
  },
  {
   "cell_type": "code",
   "execution_count": 5,
   "metadata": {},
   "outputs": [],
   "source": [
    "fen = ['r3k1r1/ppp2p2/2n2B1p/4p3/3p4/PB1P1P1q/1PP2P2/R3Q2K w q - 0 19',\n",
    "       'r1b1k2r/ppq2ppp/1n1bp3/8/3n4/1PP2Q2/P2K1PPP/RNB3NR b kq - 1 12',\n",
    "       '8/8/4k3/6RP/8/6PK/8/B7 b - - 0 55',\n",
    "       'r1bqk2r/ppp2ppp/2n1pn2/3p4/1b1P4/2N2N2/PPP1BPPP/R1BQK2R w KQkq - 0 7']\n",
    "\n",
    "dir = os.getcwd()\n",
    "count = 9\n",
    "for f in fen:\n",
    "    count += 1\n",
    "    utilities.fen2png(f, dir+'/puzzles/{}.png'.format(count))\n"
   ]
  },
  {
   "attachments": {},
   "cell_type": "markdown",
   "metadata": {},
   "source": [
    "# Step 3: Given a collection of PNG images, make a tex file formatted to include the images and some cutesy image of an animal"
   ]
  },
  {
   "attachments": {},
   "cell_type": "markdown",
   "metadata": {},
   "source": [
    "need a couple of stickers, which we randomly move and rotate."
   ]
  },
  {
   "cell_type": "code",
   "execution_count": 6,
   "metadata": {},
   "outputs": [
    {
     "name": "stdout",
     "output_type": "stream",
     "text": [
      "tex file written!\n",
      "This is pdfTeX, Version 3.141592653-2.6-1.40.24 (TeX Live 2022) (preloaded format=pdflatex)\n",
      " restricted \\write18 enabled.\n",
      "entering extended mode\n",
      "(./test.tex\n",
      "LaTeX2e <2021-11-15> patch level 1\n",
      "L3 programming layer <2022-02-24>\n",
      "(/usr/local/texlive/2022/texmf-dist/tex/latex/base/article.cls\n",
      "Document Class: article 2021/10/04 v1.4n Standard LaTeX document class\n",
      "(/usr/local/texlive/2022/texmf-dist/tex/latex/base/size10.clo))\n",
      "(/usr/local/texlive/2022/texmf-dist/tex/latex/graphics/graphicx.sty\n",
      "(/usr/local/texlive/2022/texmf-dist/tex/latex/graphics/keyval.sty)\n",
      "(/usr/local/texlive/2022/texmf-dist/tex/latex/graphics/graphics.sty\n",
      "(/usr/local/texlive/2022/texmf-dist/tex/latex/graphics/trig.sty)\n",
      "(/usr/local/texlive/2022/texmf-dist/tex/latex/graphics-cfg/graphics.cfg)\n",
      "(/usr/local/texlive/2022/texmf-dist/tex/latex/graphics-def/pdftex.def)))\n",
      "(/usr/local/texlive/2022/texmf-dist/tex/latex/textpos/textpos.sty\n",
      "Package: textpos 2020/09/26 1.10, absolute positioning of text on the page\n",
      "Grid set 16 x 16 = 38.39343pt x 49.68562pt\n",
      "TextBlockOrigin set to 0pt x 0pt\n",
      ") (/usr/local/texlive/2022/texmf-dist/tex/latex/l3backend/l3backend-pdftex.def)\n",
      " (./test.aux)\n",
      "(/usr/local/texlive/2022/texmf-dist/tex/context/base/mkii/supp-pdf.mkii\n",
      "[Loading MPS to PDF converter (version 2006.09.02).]\n",
      ") (/usr/local/texlive/2022/texmf-dist/tex/latex/epstopdf-pkg/epstopdf-base.sty\n",
      "(/usr/local/texlive/2022/texmf-dist/tex/generic/infwarerr/infwarerr.sty)\n",
      "(/usr/local/texlive/2022/texmf-dist/tex/latex/grfext/grfext.sty\n",
      "(/usr/local/texlive/2022/texmf-dist/tex/generic/kvdefinekeys/kvdefinekeys.sty))\n",
      " (/usr/local/texlive/2022/texmf-dist/tex/latex/kvoptions/kvoptions.sty\n",
      "(/usr/local/texlive/2022/texmf-dist/tex/generic/ltxcmds/ltxcmds.sty)\n",
      "(/usr/local/texlive/2022/texmf-dist/tex/generic/kvsetkeys/kvsetkeys.sty))\n",
      "(/usr/local/texlive/2022/texmf-dist/tex/generic/pdftexcmds/pdftexcmds.sty\n",
      "(/usr/local/texlive/2022/texmf-dist/tex/generic/iftex/iftex.sty))\n",
      "(/usr/local/texlive/2022/texmf-dist/tex/latex/latexconfig/epstopdf-sys.cfg))\n",
      "\n",
      "LaTeX Warning: No \\author given.\n",
      "\n",
      "\n",
      "! LaTeX Error: Can be used only in preamble.\n",
      "\n",
      "See the LaTeX manual or LaTeX Companion for explanation.\n",
      "Type  H <return>  for immediate help.\n",
      " ...                                              \n",
      "                                                  \n",
      "l.11     \\begin{document}\n",
      "                         \n",
      "? \n",
      "! Emergency stop.\n",
      " ...                                              \n",
      "                                                  \n",
      "l.11     \\begin{document}\n",
      "                         \n",
      "!  ==> Fatal error occurred, no output PDF file produced!\n",
      "Transcript written on test.log.\n"
     ]
    },
    {
     "name": "stderr",
     "output_type": "stream",
     "text": [
      "The file /Users/elliottmacneil/python/reti/notebooks/exploratory/test.pdf does not exist.\n"
     ]
    }
   ],
   "source": [
    "utilities.fen2tex('test.tex', dir+'/puzzles')"
   ]
  }
 ],
 "metadata": {
  "kernelspec": {
   "display_name": "Python 3",
   "language": "python",
   "name": "python3"
  },
  "language_info": {
   "codemirror_mode": {
    "name": "ipython",
    "version": 3
   },
   "file_extension": ".py",
   "mimetype": "text/x-python",
   "name": "python",
   "nbconvert_exporter": "python",
   "pygments_lexer": "ipython3",
   "version": "3.11.2"
  },
  "orig_nbformat": 4
 },
 "nbformat": 4,
 "nbformat_minor": 2
}
