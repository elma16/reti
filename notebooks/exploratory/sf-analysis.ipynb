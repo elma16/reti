{
 "cells": [
  {
   "cell_type": "code",
   "execution_count": null,
   "metadata": {},
   "outputs": [],
   "source": [
    "import chess\n",
    "import chess.engine\n",
    "import chess.pgn\n",
    "import re\n",
    "import numpy as np\n",
    "from stockfish import Stockfish\n",
    "import sys\n",
    "import matplotlib.pyplot as plt\n",
    "from utilities import *\n",
    "\n",
    "'''\n",
    "thoughts:\n",
    " - given the person's name, work out their score as the length of the game gets longer\n",
    "'''"
   ]
  },
  {
   "cell_type": "code",
   "execution_count": null,
   "metadata": {},
   "outputs": [],
   "source": [
    "stockfish = Stockfish(path='/opt/homebrew/Cellar/stockfish/15/bin/stockfish',\n",
    "                      depth=18,\n",
    "                      parameters={\"Threads\": 1, \"Hash\":16})\n",
    "\n",
    "pgn = open(sys.argv[1])\n",
    "content = load_pgn(sys.argv[1])\n",
    "games = game_length_array(content)\n",
    "\n",
    "print('mean length', np.mean(games))\n",
    "print('number of games', len(games))\n",
    "print('max game length', np.max(games))\n",
    "print('min game length', np.min(games))\n",
    "\n",
    "plt.hist(games,bins=len(set(games)))\n",
    "plt.show()\n",
    "\n",
    "num_games = len(games)\n",
    "engine = chess.engine.SimpleEngine.popen_uci('/opt/homebrew/Cellar/stockfish/15/bin/stockfish')\n",
    "\n",
    "move_evals = np.zeros((num_games,num_games))\n",
    "depth = np.zeros((num_games,num_games))\n",
    "game_num = -1\n",
    "for game in range(num_games):\n",
    "  first_game = chess.pgn.read_game(pgn)\n",
    "  game_num += 1\n",
    "  print(game_num)\n",
    "  board = first_game.board()\n",
    "  move_num = -1\n",
    "  for move in first_game.mainline_moves():\n",
    "    board.push(move)\n",
    "    move_num += 1\n",
    "    info = engine.analyse(board, chess.engine.Limit(time=0.01))\n",
    "    eval = str(re.findall(r'\\(.{1,5}\\)',str(info['score']))[0])[1:-1:1]\n",
    "    if eval[0] == 'C':\n",
    "      eval = eval[3::]\n",
    "    eval = int(eval)/100\n",
    "    colour = re.findall(r'WHITE|BLACK',str(info['score']))[0]\n",
    "    if colour == 'BLACK':\n",
    "      eval *= -1\n",
    "    move_evals[game_num,move_num] = eval\n",
    "    depth[game_num,move_num] = info['depth']\n",
    "  print(board)\n",
    "\n",
    "print(move_evals)\n",
    "engine.quit()"
   ]
  }
 ],
 "metadata": {
  "kernelspec": {
   "display_name": "Python 3.10.8 64-bit",
   "language": "python",
   "name": "python3"
  },
  "language_info": {
   "name": "python",
   "version": "3.10.9 (main, Dec 15 2022, 17:11:09) [Clang 14.0.0 (clang-1400.0.29.202)]"
  },
  "orig_nbformat": 4,
  "vscode": {
   "interpreter": {
    "hash": "b0fa6594d8f4cbf19f97940f81e996739fb7646882a419484c72d19e05852a7e"
   }
  }
 },
 "nbformat": 4,
 "nbformat_minor": 2
}
